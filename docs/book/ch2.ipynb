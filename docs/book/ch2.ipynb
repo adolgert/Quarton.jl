{
 "cells": [
  {
   "cell_type": "code",
   "execution_count": 1,
   "metadata": {},
   "outputs": [],
   "source": [
    "using Revise\n",
    "using DataStructures\n",
    "using Distributions\n",
    "using Quarton"
   ]
  },
  {
   "cell_type": "markdown",
   "metadata": {},
   "source": [
    "### Example: Network of queues with non-probabilistic routing\n",
    "\n",
    "Page 17. This represents disk usage for a job.\n",
    "\n",
    " 1. Jobs arrive at an exponential rate.\n",
    " 2. A CPU handles those jobs and feeds them to the queue for Disk 1.\n",
    " 3. Disk 1 processes a job and either sends it to the sink or to Disk 2.\n",
    "    a. If the job has a mark of 1, it goes to Disk 2 and gets incremented.\n",
    "    b. If the job has a mark of 2, it goes to the sink.\n",
    " 4. Disk 2 processes jobs and returns them to the queue of Disk 1.\n"
   ]
  },
  {
   "cell_type": "code",
   "execution_count": 7,
   "metadata": {},
   "outputs": [
    {
     "name": "stdout",
     "output_type": "stream",
     "text": [
      "servers Dict(\"disk1\" => 3, \"CPU\" => 2, \"arrival\" => 1, \"disk2\" => 4)\n",
      "queues Dict(\"sink\" => 4, \"CPU_queue\" => 2, \"disk1_queue\" => 3, \"source\" => 1, \"disk2_queue\" => 5)\n"
     ]
    },
    {
     "name": "stderr",
     "output_type": "stream",
     "text": [
      "┌ Debug: Bulding queueing model\n",
      "└ @ Quarton /home/adolgert/dev/quarton/src/model.jl:133\n"
     ]
    },
    {
     "data": {
      "text/plain": [
       "0.025293862377925223"
      ]
     },
     "metadata": {},
     "output_type": "display_data"
    }
   ],
   "source": [
    "function nonprobabilistic_routing()\n",
    "    arrival_rate = 1.0\n",
    "    service_rate = 1.0\n",
    "    T = CountedWork\n",
    "    model = QueueModel{T}()\n",
    "    token_builder = (when, rng) -> T(1.0, when)\n",
    "    source = InfiniteSourceQueue{T}(token_builder)\n",
    "    arrival = ArrivalServer(arrival_rate)\n",
    "    @pipe! model source => arrival :only\n",
    "    CPU_queue = FIFOQueue{T}()\n",
    "    @pipe! model arrival => CPU_queue :only\n",
    "    CPU = ModifyServer(service_rate)\n",
    "    @pipe! model CPU_queue => CPU :only\n",
    "\n",
    "    disk1_queue = FIFOQueue{T}()\n",
    "    @pipe! model CPU => disk1_queue :only\n",
    "\n",
    "    on_output = token -> (token.mark = 2; nothing)\n",
    "    assign_by_mark = SizeIntervalAssignment(t -> (t.mark == 1) ? :around : :out)\n",
    "    disk1 = ModifyServer(\n",
    "        service_rate, disbursement=assign_by_mark, modify=on_output\n",
    "        )\n",
    "    @pipe! model disk1_queue => disk1 :only\n",
    "\n",
    "    sink = SummarySink{T}()\n",
    "    @pipe! model disk1 => sink :out\n",
    "    \n",
    "    disk2_queue = FIFOQueue{T}()\n",
    "    @pipe! model disk1 => disk2_queue :around\n",
    "\n",
    "    disk2 = ModifyServer(service_rate)\n",
    "    @pipe! model disk2_queue => disk2 :only\n",
    "    @pipe! model disk2 => disk1_queue :only\n",
    "    check_model(model)\n",
    "    println(\"servers $(model.s_name)\")\n",
    "    println(\"queues $(model.q_name)\")\n",
    "\n",
    "    trajectory = Trajectory(2342334)\n",
    "    start_time = zero(Float64)\n",
    "    activate!(model, trajectory, arrival, T())\n",
    "    when = 0.0\n",
    "    cnt = 0\n",
    "    while when < 100.0 && cnt < 10000\n",
    "        when, which = next(trajectory)\n",
    "        step!(model, trajectory, (when, which))\n",
    "        cnt += 1\n",
    "    end\n",
    "    return throughput(sink)\n",
    "end\n",
    "nonprobabilistic_routing()"
   ]
  },
  {
   "cell_type": "markdown",
   "metadata": {},
   "source": [
    "### Example: Finite buffer\n",
    "\n",
    "This buffer will drop jobs when it is full. This is on page 17."
   ]
  },
  {
   "cell_type": "code",
   "execution_count": 8,
   "metadata": {},
   "outputs": [
    {
     "name": "stderr",
     "output_type": "stream",
     "text": [
      "┌ Debug: Bulding queueing model\n",
      "└ @ Quarton /home/adolgert/dev/quarton/src/model.jl:133\n"
     ]
    },
    {
     "data": {
      "text/plain": [
       "(6.037175250004293, 943)"
      ]
     },
     "metadata": {},
     "output_type": "display_data"
    }
   ],
   "source": [
    "function finite_buffer(arrival_rate, service_rate, keep_cnt)\n",
    "    T = Work\n",
    "    model = QueueModel{T}()\n",
    "    source = InfiniteSourceQueue{T}()\n",
    "    fifo = FiniteFIFOQueue{T}(keep_cnt)\n",
    "    sink = SummarySink{T}()\n",
    "    s1 = ArrivalServer(arrival_rate)\n",
    "    s2 = ModifyServer(service_rate)\n",
    "    @pipe! model source => s1 :only\n",
    "    @pipe! model s1 => fifo :only\n",
    "    @pipe! model fifo => s2 :only\n",
    "    @pipe! model s2 => sink :only\n",
    "    check_model(model)\n",
    "    trajectory = Trajectory(2342334)\n",
    "    start_time = zero(Float64)\n",
    "    activate!(model, trajectory, s1, Work())\n",
    "    when = 0.0\n",
    "    while when < 10000.0\n",
    "        when, which = next(trajectory)\n",
    "        step!(model, trajectory, (when, which))\n",
    "    end\n",
    "    response = sink.retire_total_duration / sink.retire_cnt\n",
    "    drops = fifo.drop_cnt\n",
    "    return response, drops\n",
    "end\n",
    "# How many drops do we get when the rate of arrivals equals the rate\n",
    "# of the server, over the 10,000s?\n",
    "keep_cnt = 9\n",
    "finite_buffer(1.0, 1.0, keep_cnt)"
   ]
  },
  {
   "cell_type": "code",
   "execution_count": null,
   "metadata": {},
   "outputs": [],
   "source": []
  }
 ],
 "metadata": {
  "kernelspec": {
   "display_name": "Julia 1.9.3",
   "language": "julia",
   "name": "julia-1.9"
  },
  "language_info": {
   "file_extension": ".jl",
   "mimetype": "application/julia",
   "name": "julia",
   "version": "1.9.3"
  }
 },
 "nbformat": 4,
 "nbformat_minor": 2
}
