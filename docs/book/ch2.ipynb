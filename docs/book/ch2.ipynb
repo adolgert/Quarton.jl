{
 "cells": [
  {
   "cell_type": "code",
   "execution_count": 2,
   "metadata": {},
   "outputs": [],
   "source": [
    "using Revise\n",
    "using DataStructures\n",
    "using Distributions\n",
    "using Quarton"
   ]
  },
  {
   "cell_type": "markdown",
   "metadata": {},
   "source": [
    "### Example: Network of queues with non-probabilistic routing\n",
    "\n",
    "Page 17. This represents disk usage for a job.\n",
    "\n",
    " 1. Jobs arrive at an exponential rate.\n",
    " 2. A CPU handles those jobs and feeds them to the queue for Disk 1.\n",
    " 3. Disk 1 processes a job and either sends it to the sink or to Disk 2.\n",
    "    a. If the job has a mark of 1, it goes to Disk 2 and gets incremented.\n",
    "    b. If the job has a mark of 2, it goes to the sink.\n",
    " 4. Disk 2 processes jobs and returns them to the queue of Disk 1.\n"
   ]
  },
  {
   "cell_type": "code",
   "execution_count": 5,
   "metadata": {},
   "outputs": [
    {
     "data": {
      "text/plain": [
       "24.297218383984642"
      ]
     },
     "metadata": {},
     "output_type": "display_data"
    }
   ],
   "source": [
    "function nonprobabilistic_routing()\n",
    "    arrival_rate = 1.0\n",
    "    service_rate = 1.0\n",
    "    model = QueueModel()\n",
    "    token_builder = (when, rng) -> CountedWork(1.0, when)\n",
    "    source = add_queue!(model, InfiniteSourceQueue())\n",
    "    CPU_queue = add_queue!(model, FIFOQueue())\n",
    "    disk1_queue = add_queue!(model, FIFOQueue())\n",
    "    disk2_queue = add_queue!(model, FIFOQueue())\n",
    "    sink = add_queue!(model, SinkQueue())\n",
    "    arrival = add_server!(model, ArrivalServer(arrival_rate))\n",
    "    CPU = add_server!(model, ModifyServer(service_rate))\n",
    "    on_output = token -> (token.mark = 2; nothing)\n",
    "    assign_by_mark = SizeIntervalAssignment(t -> (t.mark == 1) ? :around : :out)\n",
    "    disk1 = ModifyServer(\n",
    "        service_rate, disbursement=assign_by_mark, modify=on_output\n",
    "        )\n",
    "    add_server!(model, disk1)\n",
    "    disk2 = add_server!(model, ModifyServer(service_rate))\n",
    "    connect!(model, source, arrival, :only)\n",
    "    connect!(model, arrival, CPU_queue, :only)\n",
    "    connect!(model, CPU_queue, CPU, :only)\n",
    "    connect!(model, CPU, sink, :only)\n",
    "    connect!(model, disk1_queue, disk1, :only)\n",
    "    connect!(model, disk1, sink, :out)\n",
    "    connect!(model, disk1, disk2_queue, :around)\n",
    "    connect!(model, disk2_queue, disk2, :only)\n",
    "    connect!(model, disk2, disk1_queue, :only)\n",
    "    # connect!(model, CPU, sink, :only)\n",
    "    check_model(model)\n",
    "    trajectory = Trajectory(2342334)\n",
    "    start_time = zero(Float64)\n",
    "    activate!(model, trajectory, arrival, CountedWork())\n",
    "    when = 0.0\n",
    "    while when < 10000.0\n",
    "        when, which = next(trajectory)\n",
    "        step!(model, trajectory, (when, which))\n",
    "    end\n",
    "    response = sink.retire_total_duration / sink.retire_cnt\n",
    "    return response\n",
    "end\n",
    "nonprobabilistic_routing()"
   ]
  },
  {
   "cell_type": "markdown",
   "metadata": {},
   "source": [
    "### Example: Finite buffer\n",
    "\n",
    "This buffer will drop jobs when it is full. This is on page 17."
   ]
  },
  {
   "cell_type": "code",
   "execution_count": 17,
   "metadata": {},
   "outputs": [
    {
     "data": {
      "text/plain": [
       "(6.037175250004293, 943)"
      ]
     },
     "metadata": {},
     "output_type": "display_data"
    }
   ],
   "source": [
    "function finite_buffer(arrival_rate, service_rate, keep_cnt)\n",
    "    model = QueueModel()\n",
    "    source = add_queue!(model, InfiniteSourceQueue())\n",
    "    fifo = add_queue!(model, FiniteFIFOQueue(keep_cnt))\n",
    "    sink = add_queue!(model, SinkQueue())\n",
    "    s1 = add_server!(model, ArrivalServer(arrival_rate))\n",
    "    s2 = add_server!(model, ModifyServer(service_rate))\n",
    "    connect!(model, source, s1, :only)\n",
    "    connect!(model, s1, fifo, :only)\n",
    "    connect!(model, fifo, s2, :only)\n",
    "    connect!(model, s2, sink, :only)\n",
    "    check_model(model)\n",
    "    trajectory = Trajectory(2342334)\n",
    "    start_time = zero(Float64)\n",
    "    activate!(model, trajectory, s1, Work())\n",
    "    when = 0.0\n",
    "    while when < 10000.0\n",
    "        when, which = next(trajectory)\n",
    "        step!(model, trajectory, (when, which))\n",
    "    end\n",
    "    response = sink.retire_total_duration / sink.retire_cnt\n",
    "    drops = fifo.drop_cnt\n",
    "    return response, drops\n",
    "end\n",
    "# How many drops do we get when the rate of arrivals equals the rate\n",
    "# of the server, over the 10,000s?\n",
    "keep_cnt = 9\n",
    "finite_buffer(1.0, 1.0, keep_cnt)"
   ]
  },
  {
   "cell_type": "code",
   "execution_count": null,
   "metadata": {},
   "outputs": [],
   "source": []
  }
 ],
 "metadata": {
  "kernelspec": {
   "display_name": "Julia 1.9.3",
   "language": "julia",
   "name": "julia-1.9"
  },
  "language_info": {
   "file_extension": ".jl",
   "mimetype": "application/julia",
   "name": "julia",
   "version": "1.9.3"
  }
 },
 "nbformat": 4,
 "nbformat_minor": 2
}
